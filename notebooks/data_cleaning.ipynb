{
 "cells": [
  {
   "cell_type": "markdown",
   "id": "e06e8612",
   "metadata": {},
   "source": [
    "### File & Structure Check"
   ]
  },
  {
   "cell_type": "code",
   "execution_count": 254,
   "id": "24b62e53",
   "metadata": {},
   "outputs": [],
   "source": [
    "import re\n",
    "import pandas as pd\n",
    "import seaborn as sns\n",
    "import matplotlib.pyplot as plt"
   ]
  },
  {
   "cell_type": "code",
   "execution_count": 255,
   "id": "1c89a7fd",
   "metadata": {},
   "outputs": [
    {
     "data": {
      "text/html": [
       "<div>\n",
       "<style scoped>\n",
       "    .dataframe tbody tr th:only-of-type {\n",
       "        vertical-align: middle;\n",
       "    }\n",
       "\n",
       "    .dataframe tbody tr th {\n",
       "        vertical-align: top;\n",
       "    }\n",
       "\n",
       "    .dataframe thead th {\n",
       "        text-align: right;\n",
       "    }\n",
       "</style>\n",
       "<table border=\"1\" class=\"dataframe\">\n",
       "  <thead>\n",
       "    <tr style=\"text-align: right;\">\n",
       "      <th></th>\n",
       "      <th>name</th>\n",
       "      <th>price</th>\n",
       "      <th>image</th>\n",
       "      <th>availability</th>\n",
       "      <th>description</th>\n",
       "      <th>url</th>\n",
       "      <th>category</th>\n",
       "    </tr>\n",
       "  </thead>\n",
       "  <tbody>\n",
       "    <tr>\n",
       "      <th>0</th>\n",
       "      <td>Pc Portable BMAX MaxBook X15 Pro / N95 / 16 Go...</td>\n",
       "      <td>739,000 DT</td>\n",
       "      <td>https://www.tunisianet.com.tn/437353-home/pc-p...</td>\n",
       "      <td>En stock</td>\n",
       "      <td>Écran 15.6\" Full HD, IPS- ProcesseurIntel N95 ...</td>\n",
       "      <td>https://www.tunisianet.com.tn/pc-portable-tuni...</td>\n",
       "      <td>Pc Portable Pro</td>\n",
       "    </tr>\n",
       "    <tr>\n",
       "      <th>1</th>\n",
       "      <td>Pc Portable Lenovo V15 G4 IRU / i3-1315U / 8 G...</td>\n",
       "      <td>1 189,000 DT</td>\n",
       "      <td>https://www.tunisianet.com.tn/440949-home/pc-p...</td>\n",
       "      <td>En stock</td>\n",
       "      <td>Écran 15.6\" Full HD (1920x1080), Antireflet- P...</td>\n",
       "      <td>https://www.tunisianet.com.tn/pc-portable-tuni...</td>\n",
       "      <td>Pc Portable Pro</td>\n",
       "    </tr>\n",
       "    <tr>\n",
       "      <th>2</th>\n",
       "      <td>Pc Portable Lenovo V15 G4 IRU / i3-1315U / 8 G...</td>\n",
       "      <td>1 249,000 DT</td>\n",
       "      <td>https://www.tunisianet.com.tn/405188-home/pc-p...</td>\n",
       "      <td>En stock</td>\n",
       "      <td>Écran 15.6\" Full HD (1920x1080), Antireflet- P...</td>\n",
       "      <td>https://www.tunisianet.com.tn/pc-portable-tuni...</td>\n",
       "      <td>Pc Portable Pro</td>\n",
       "    </tr>\n",
       "    <tr>\n",
       "      <th>3</th>\n",
       "      <td>Pc Portable Lenovo V15 G4 IRU / i3-1315U / 8 G...</td>\n",
       "      <td>1 249,000 DT</td>\n",
       "      <td>https://www.tunisianet.com.tn/440657-home/pc-p...</td>\n",
       "      <td>En stock</td>\n",
       "      <td>Écran 15.6\" Full HD (1920x1080), Antireflet- P...</td>\n",
       "      <td>https://www.tunisianet.com.tn/pc-portable-tuni...</td>\n",
       "      <td>Pc Portable Pro</td>\n",
       "    </tr>\n",
       "    <tr>\n",
       "      <th>4</th>\n",
       "      <td>Pc Portable Lenovo V15 G4 IRU / i3-1315U / 8 G...</td>\n",
       "      <td>1 249,000 DT</td>\n",
       "      <td>https://www.tunisianet.com.tn/441378-home/pc-p...</td>\n",
       "      <td>En stock</td>\n",
       "      <td>Écran 15.6\" Full HD (1920x1080), Antireflet- P...</td>\n",
       "      <td>https://www.tunisianet.com.tn/pc-portable-tuni...</td>\n",
       "      <td>Pc Portable Pro</td>\n",
       "    </tr>\n",
       "  </tbody>\n",
       "</table>\n",
       "</div>"
      ],
      "text/plain": [
       "                                                name         price  \\\n",
       "0  Pc Portable BMAX MaxBook X15 Pro / N95 / 16 Go...    739,000 DT   \n",
       "1  Pc Portable Lenovo V15 G4 IRU / i3-1315U / 8 G...  1 189,000 DT   \n",
       "2  Pc Portable Lenovo V15 G4 IRU / i3-1315U / 8 G...  1 249,000 DT   \n",
       "3  Pc Portable Lenovo V15 G4 IRU / i3-1315U / 8 G...  1 249,000 DT   \n",
       "4  Pc Portable Lenovo V15 G4 IRU / i3-1315U / 8 G...  1 249,000 DT   \n",
       "\n",
       "                                               image availability  \\\n",
       "0  https://www.tunisianet.com.tn/437353-home/pc-p...     En stock   \n",
       "1  https://www.tunisianet.com.tn/440949-home/pc-p...     En stock   \n",
       "2  https://www.tunisianet.com.tn/405188-home/pc-p...     En stock   \n",
       "3  https://www.tunisianet.com.tn/440657-home/pc-p...     En stock   \n",
       "4  https://www.tunisianet.com.tn/441378-home/pc-p...     En stock   \n",
       "\n",
       "                                         description  \\\n",
       "0  Écran 15.6\" Full HD, IPS- ProcesseurIntel N95 ...   \n",
       "1  Écran 15.6\" Full HD (1920x1080), Antireflet- P...   \n",
       "2  Écran 15.6\" Full HD (1920x1080), Antireflet- P...   \n",
       "3  Écran 15.6\" Full HD (1920x1080), Antireflet- P...   \n",
       "4  Écran 15.6\" Full HD (1920x1080), Antireflet- P...   \n",
       "\n",
       "                                                 url         category  \n",
       "0  https://www.tunisianet.com.tn/pc-portable-tuni...  Pc Portable Pro  \n",
       "1  https://www.tunisianet.com.tn/pc-portable-tuni...  Pc Portable Pro  \n",
       "2  https://www.tunisianet.com.tn/pc-portable-tuni...  Pc Portable Pro  \n",
       "3  https://www.tunisianet.com.tn/pc-portable-tuni...  Pc Portable Pro  \n",
       "4  https://www.tunisianet.com.tn/pc-portable-tuni...  Pc Portable Pro  "
      ]
     },
     "execution_count": 255,
     "metadata": {},
     "output_type": "execute_result"
    }
   ],
   "source": [
    "df = pd.read_csv(r\"data\\raw\\products.csv\")\n",
    "df.head()\n"
   ]
  },
  {
   "cell_type": "code",
   "execution_count": 256,
   "id": "5b6351a8",
   "metadata": {},
   "outputs": [
    {
     "name": "stdout",
     "output_type": "stream",
     "text": [
      "The Number of Rows are 11894, and columns are 7.\n"
     ]
    }
   ],
   "source": [
    "print(f\"The Number of Rows are {df.shape[0]}, and columns are {df.shape[1]}.\")"
   ]
  },
  {
   "cell_type": "code",
   "execution_count": 257,
   "id": "241dd409",
   "metadata": {},
   "outputs": [
    {
     "name": "stdout",
     "output_type": "stream",
     "text": [
      "<class 'pandas.core.frame.DataFrame'>\n",
      "RangeIndex: 11894 entries, 0 to 11893\n",
      "Data columns (total 7 columns):\n",
      " #   Column        Non-Null Count  Dtype \n",
      "---  ------        --------------  ----- \n",
      " 0   name          11894 non-null  object\n",
      " 1   price         11873 non-null  object\n",
      " 2   image         11894 non-null  object\n",
      " 3   availability  11894 non-null  object\n",
      " 4   description   11893 non-null  object\n",
      " 5   url           11894 non-null  object\n",
      " 6   category      11894 non-null  object\n",
      "dtypes: object(7)\n",
      "memory usage: 650.6+ KB\n",
      "None\n"
     ]
    }
   ],
   "source": [
    "print(df.info())\n"
   ]
  },
  {
   "cell_type": "code",
   "execution_count": 258,
   "id": "5f23c93f",
   "metadata": {},
   "outputs": [
    {
     "name": "stdout",
     "output_type": "stream",
     "text": [
      "columns: Index(['name', 'price', 'image', 'availability', 'description', 'url',\n",
      "       'category'],\n",
      "      dtype='object')\n",
      "for 'name' column:\n",
      "   - nombre of unique values: 10086\n",
      "   - unique values: ['Pc Portable BMAX MaxBook X15 Pro / N95 / 16 Go / 512 Go SSD / Windows 11 / Gris  + Souris Optique USB'\n",
      " 'Pc Portable Lenovo V15 G4 IRU / i3-1315U / 8 Go / 512 Go SSD / Noir'\n",
      " 'Pc Portable Lenovo V15 G4 IRU / i3-1315U / 8 Go / 512 Go SSD / Noir Avec Sacoche Lenovo Offerte'\n",
      " ... \"Kit d'extension HDMI 4K sur Ethernet Manhattan 50 métres\"\n",
      " 'Commutateur Aruba Instant On 1830 24G 12p Classe 4 PoE 2SFP 195 W'\n",
      " 'Commutateur Aruba HPE Networking Instant On série 1930']\n",
      "\n",
      "\n",
      "for 'price' column:\n",
      "   - nombre of unique values: 1273\n",
      "   - unique values: ['739,000 DT' '1\\xa0189,000 DT' '1\\xa0249,000 DT' ... '5,100 DT'\n",
      " '13,300 DT' '34,500 DT']\n",
      "\n",
      "\n",
      "for 'image' column:\n",
      "   - nombre of unique values: 10267\n",
      "   - unique values: ['https://www.tunisianet.com.tn/437353-home/pc-portable-bmax-maxbook-x15-pro-n95-16-go-512-go-ssd-windows-11-gris-souris-optique-usb-havit.jpg'\n",
      " 'https://www.tunisianet.com.tn/440949-home/pc-portable-lenovo-v15-g4-iru-i3-1315u-8-go-512-go-ssd-noir.jpg'\n",
      " 'https://www.tunisianet.com.tn/405188-home/pc-portable-lenovo-v15-g4-iru-i3-1315u-8-go-512-go-ssd-noir-avec-sacoche-lenovo-offerte.jpg'\n",
      " ...\n",
      " 'https://www.tunisianet.com.tn/412390-home/kit-d-extension-hdmi-4k-sur-ethernet-manhattan-50-metres.jpg'\n",
      " 'https://www.tunisianet.com.tn/383670-home/commutateur-aruba-instant-on-1830-24g-12p-classe-4-poe-2sfp-195-w.jpg'\n",
      " 'https://www.tunisianet.com.tn/392677-home/commutateur-aruba-hpe-networking-instant-on-serie-1930.jpg']\n",
      "\n",
      "\n",
      "for 'availability' column:\n",
      "   - nombre of unique values: 3\n",
      "   - unique values: ['En stock' 'Sur commande' 'En arrivage']\n",
      "\n",
      "\n",
      "for 'description' column:\n",
      "   - nombre of unique values: 10119\n",
      "   - unique values: ['Écran 15.6\" Full HD, IPS- ProcesseurIntel N95 12e génération, (jusqu’à 3.4 GHz, 6 Mo de mémoire cache) - Mémoire16 Go DDR5-5600- Disque SSD NVMe M.2512 Go- Carte graphiqueIntel UHD Graphics intégrée- 3x USB - 1x HDMI - Prise casque stéréo 3.5 mm -Wi-Fi- Bluetooth -Windows 11- Couleur : Gris -Garantie\\xa01 ans+Souris Optique USB (1610-BK)'\n",
      " 'Écran 15.6\" Full HD (1920x1080), Antireflet- ProcesseurIntel Core i3-1315U,\\xa0(jusqu\\'à 4.5 GHz, 10 Mo de mémoire cache) - Mémoire8 Go DDR4- Disque SSDM.2 NVMe 512 Go- Carte graphique Intel UHD Graphcs intégrée - 2x Haut-parleurs stéréo 1,5 W Dolby Audio - Caméra HD 720p avec obturateur de confidentialité - Clavier Non rétroéclairé, français - Ethernet -Wi-Fi 6- Bluetooth 5.2 - 1x USB 2.0 - 1x USB 3.2 - 1x USB-C DisplayPort 1.4 - 1x HDMI 2.1 - 1x prise combinée casque/microphone (3.5 mm) - 1x Ethernet (RJ-45) -FreeDos- Couleur\\xa0Noir graphite -Garantie 1 an'\n",
      " 'Écran 15.6\" Full HD (1920x1080), Antireflet- ProcesseurIntel Core i3-1315U,\\xa0(jusqu\\'à 4.5 GHz, 10 Mo de mémoire cache) - Mémoire8 Go DDR4- Disque SSDM.2 NVMe 512 Go- Carte graphique Intel UHD Graphcs intégrée - 2x Haut-parleurs stéréo 1,5 W Dolby Audio - Caméra HD 720p avec obturateur de confidentialité - Clavier Non rétroéclairé, français - Ethernet -Wi-Fi 6- Bluetooth 5.2 - 1x USB 2.0 - 1x USB 3.2 - 1x USB-C DisplayPort 1.4 - 1x HDMI 2.1 - 1x prise combinée casque/microphone (3.5 mm) - 1x Ethernet (RJ-45) -FreeDos- Couleur\\xa0Noir graphite -Garantie 2 ans Avec Sacoche Lenovo Offerte'\n",
      " ...\n",
      " \"Kit d'extension HDMI 4K sur Ethernet Manhattan 50 métres - Câble Cat5e/6/6a: 4K à 30 Hz jusqu'à 50 m (164 pi) - Connexions: Une entrée HDMI (émetteur) / Une sortie HDMI (récepteur) / Un RJ45 femelle (émetteur/récepteur) / Un connecteur d'alimentation 5 VDC (émetteur/récepteur) / Deux connecteurs femelles IR 3,5 mm (émetteur/récepteur) - Entrée du signal vidéo: 0,5 – 1,0 V pp / Entrée de signal DDC : 5 V pp (TTL) - Sortie vidéo: HDCP 1.4, DVI 1.0 - Fréquence : 10,2 Gbps / 340 MHz - Résolutions vidéo: 480i/576i/480p/576p/720p/1080i/1080p/4K (sous-échantillonnage de la chrominance 4:2:0 4K à 30 Hz) - Dimensions : 87 x 61 x 18 mm - Poids : 685 g - Châssis : Métallique -Garantie 1 an\"\n",
      " \"Commutateur Aruba Instant On 1830 24G 12p Classe 4 PoE 2SFP 195 W - Tension d'entrée: 100 - 240 V CA - Ports: 24x ports PoE Classe 4 RJ-45 10/100/1000, 2x ports SFP 1 GbE - Capacité de basculement: 52 Gbit/s - Débit: 38.68 Mpps - Mémoire et processeur: ARM Cortex-A9 à 800 MHz, 512 Mo de mémoire SDRAM, 256 Mo de mémoire flash, mémoire de tampon de paquets: 1.5 Mo - Possibilité PoE: 195 W - Température de fonctionnement: 0-40°C, 0-3048 m - Fonctions d'administration: Aruba Instant On Cloud, navigateur Web, gestionnaire SNMP - Dimensions: 25.30 x 44.30 x 4.39 cm - Poids: 3.47 kg -Garantie 1 an\"\n",
      " 'Commutateur Aruba Instant On 1930 24G Classe 4 PoE 4SFP/SFP+ 370 W - 24 Ports Gigabit en cuivre - 4 ports SFP+ 1/10GbE - Capacité de débit: 95.23 Mpps - Capacité de commutation: 128 Gbit/s - MTBF de fiabilité: 71 années - Puissance nominale maximale: 440.4 W - Dimensions: 44.25 x 26.47 x 4.39 cm (hauteur 1U) - Poids: 3.73 kg - Couleur Blanc -Garantie 1 an']\n",
      "\n",
      "\n",
      "for 'url' column:\n",
      "   - nombre of unique values: 10267\n",
      "   - unique values: ['https://www.tunisianet.com.tn/pc-portable-tunisie/87603-pc-portable-bmax-maxbook-x15-pro-n95-16-go-512-go-ssd-windows-11-gris-souris-optique-usb-havit.html'\n",
      " 'https://www.tunisianet.com.tn/pc-portable-tunisie/88279-pc-portable-lenovo-v15-g4-iru-i3-1315u-8-go-512-go-ssd-noir.html'\n",
      " 'https://www.tunisianet.com.tn/pc-portable-tunisie/81410-pc-portable-lenovo-v15-g4-iru-i3-1315u-8-go-512-go-ssd-noir-avec-sacoche-lenovo-offerte.html'\n",
      " ...\n",
      " 'https://www.tunisianet.com.tn/reseau-connectiques/82741-kit-d-extension-hdmi-4k-sur-ethernet-manhattan-50-metres.html'\n",
      " 'https://www.tunisianet.com.tn/adaptateurs-convertisseurs/77769-commutateur-aruba-instant-on-1830-24g-12p-classe-4-poe-2sfp-195-w.html'\n",
      " 'https://www.tunisianet.com.tn/adaptateurs-convertisseurs/78982-commutateur-aruba-hpe-networking-instant-on-serie-1930.html']\n",
      "\n",
      "\n",
      "for 'category' column:\n",
      "   - nombre of unique values: 183\n",
      "   - unique values: ['Pc Portable Pro' 'Pc Portable Gamer' 'Casque & Écouteurs'\n",
      " 'Sacoche & Sac À Dos' 'Ensemble Clavier Et Souris' 'Claviers'\n",
      " 'Refroidisseur' 'Souris' 'Tapis De Souris' 'Lecteur De Cartes & Hub USB'\n",
      " 'Accessoires Ecran' \"Station D'accueil\" 'Pc Portable' 'Webcam' 'Ecran'\n",
      " 'Pc Tout En Un' 'Sécurité' 'Microsoft' 'Pc De Bureau' 'Full Setup Gamer'\n",
      " 'Disque Dur Interne' 'Afficheur' 'Processeur' 'Barrette Mémoire'\n",
      " 'Carte Mère' 'Carte Graphique' 'Pc De Bureau Gamer'\n",
      " 'Clavier Pour Pc Portable' 'Batterie Pour Pc Portable'\n",
      " \"Boîte D'alimentation\" 'Chargeur Pour Pc Portable' 'Lecteur & Graveur'\n",
      " 'Boîtier' 'Divers' 'Tablette Graphique' 'Ventilateur & Refroidisseur'\n",
      " 'Etui De Protection Pour Tablette' 'Film De Protection Pour Tablette'\n",
      " 'Divers Pour Tablette' 'Etui De Protection Pour Téléphones' 'Tablette'\n",
      " 'Film De Protection Pour Smartphones' 'Power Bank'\n",
      " 'Disques Internes Standards' 'Divers Pour Téléphones'\n",
      " 'Disques Internes Pour Serveur De Stockage'\n",
      " 'Disques Internes Pour Vidéosurveillance'\n",
      " 'Chargeur Et Câble Pour Tablette' 'Chargeurs Et Câbles Pour Téléphones'\n",
      " \"Imprimante Et Multifonction Jet D'encre\"\n",
      " 'Imprimante À Réservoir Intégré' 'Imprimante Professionnelle'\n",
      " 'Imprimante Point De Vente' 'Disque SSD' 'Accessoires Photocopieurs'\n",
      " 'Photocopieurs A4 | A3' 'Papier A3' 'Papier A4' 'Enveloppe'\n",
      " 'Papier Photo' 'Vidéoprojecteurs' 'Accessoires Pour Vidéoprojecteurs'\n",
      " 'Consoles' 'Imprimante Et Multifonction Laser' 'Manettes De Jeux'\n",
      " 'Adaptables' 'Originales' 'Accessoires Pour Téléviseurs' 'Téléviseurs'\n",
      " 'Récepteur' 'Accessoires Pour Récepteurs' 'Appareils Photos'\n",
      " 'Accessoires Pour Appareils Photos' 'Accessoires Pour Cônsoles' 'Torches'\n",
      " 'Ensemble Home Cinéma' 'Barre De Son' 'Piles' 'Radio - Réveil'\n",
      " 'Chaîne Stéréo' 'Chargeurs' 'Microphone' 'Mini Réfrigérateur | Mini Bar'\n",
      " 'Haut-Parleur' 'Congélateurs' 'Cuisinière' 'Hottes' 'Réfrigérateurs'\n",
      " 'Micro-Ondes Encastrable' 'Fontaine Fraîche' 'Pack Encastrable'\n",
      " 'Four Encastrable' 'Lave Vaisselle' 'Sèche Linge' 'Plaque De Cuisson'\n",
      " 'Chaudière' 'Chauffage' 'Chauffe Bain' 'Grille-Pain'\n",
      " 'Mini Four Électrique' 'Machine À Laver' 'Blenders' 'Mixeurs' 'Hachoirs'\n",
      " 'Centrifugeuses' 'Batteurs' 'Presse Agrumes / Légumes'\n",
      " 'Robots Multifonction' 'Friteuse' 'Micro-Onde' 'AirFryer'\n",
      " 'Appareil De Cuisson / Convivial' 'Repassage & Accessoires'\n",
      " 'Aspirateur - Nettoyeur Vapeur' 'Beauté Masculine'\n",
      " 'Santé Connectée - Bien Être - Massage' 'Alarme Sans Fil'\n",
      " 'Beauté Féminine' 'Accessoires' 'Kit Sécurité' 'Enregistreur'\n",
      " 'Caméra De Surveillance' 'Détecteurs Et Capteurs' 'Accessoires Sécurité'\n",
      " 'Tiroirs Caisses Et Coffres-Forts' 'Caisses Enregistreuses'\n",
      " 'Perforelieuses' 'Douchettes' 'Destructeurs De Papiers'\n",
      " 'Compteuse De Billets' 'Plastifieuses' 'Stylos Confort' 'Stylos À Bille'\n",
      " 'Stylos Pointe Fine' 'Stylos Feutre' 'Crayons & Porte-Mines' 'Correction'\n",
      " 'Surligneurs' 'Règles' 'Marqueurs' 'Porte-Stylos' 'Cachets & Tampons'\n",
      " 'Cadenas' 'Accessories' 'Boîtes De Classement' 'Classeurs'\n",
      " 'Chemises & Sous-Chemises' 'Portes Documents' 'Trieur'\n",
      " 'Cafetières Et Moulin À Café' 'Corbeilles À Courrier'\n",
      " 'Post-It - Pense Bête' 'Etiquettes' 'Cahiers & Bloc-Notes' 'Perforateur'\n",
      " 'Corbeilles' 'Agrafage' 'Rouleau Scotch' 'Colles' 'Reliure & Spiral'\n",
      " 'Punaises & Épingles' 'Trombones & Pinces' 'Découpe' 'Elastiques'\n",
      " 'Tableaux En Liège' 'Tableaux À Craie' 'Tableaux Vitrine'\n",
      " 'Accessoires Tableaux' 'Tableaux Blancs' 'Carte Réseau' 'CPL'\n",
      " 'Clé Wifi - Bluetooth' 'Coffrets Et Armoires Réseau' 'Accessoires Réseau'\n",
      " 'Multiprise' \"Switch / Routeurs / Point D'accès\" 'Câbles USB'\n",
      " 'Câbles HDMI' 'Câbles Firewire' 'Câbles Alimentation'\n",
      " 'Câbles Ecrans TV / AUDIO / DVD' 'Câbles Réseau'\n",
      " 'Adaptateurs / Convertisseurs']\n",
      "\n",
      "\n"
     ]
    }
   ],
   "source": [
    "# Extract columns\n",
    "cols = df.columns\n",
    "\n",
    "print(f\"columns: {cols}\")\n",
    "\n",
    "# Iterate over each column name to fix issues\n",
    "for column in cols:\n",
    "    print(f\"for '{column}' column:\")\n",
    "    print(f\"   - nombre of unique values: {df[column].nunique()}\")\n",
    "    print(f\"   - unique values: {df[column].unique()}\\n\\n\")\n",
    "\n"
   ]
  },
  {
   "cell_type": "markdown",
   "id": "c63afd8f",
   "metadata": {},
   "source": [
    "### 2. Handle Missing & Duplicates"
   ]
  },
  {
   "cell_type": "code",
   "execution_count": 259,
   "id": "84182573",
   "metadata": {},
   "outputs": [
    {
     "name": "stdout",
     "output_type": "stream",
     "text": [
      "name             0\n",
      "price           21\n",
      "image            0\n",
      "availability     0\n",
      "description      1\n",
      "url              0\n",
      "category         0\n",
      "dtype: int64\n"
     ]
    }
   ],
   "source": [
    "print(df.isna().sum())"
   ]
  },
  {
   "cell_type": "code",
   "execution_count": 260,
   "id": "1963e90c",
   "metadata": {},
   "outputs": [],
   "source": [
    "df = df.drop_duplicates(subset=[\"name\", \"category\", \"url\"])\n"
   ]
  },
  {
   "cell_type": "code",
   "execution_count": 261,
   "id": "ae464475",
   "metadata": {},
   "outputs": [
    {
     "data": {
      "text/html": [
       "<div>\n",
       "<style scoped>\n",
       "    .dataframe tbody tr th:only-of-type {\n",
       "        vertical-align: middle;\n",
       "    }\n",
       "\n",
       "    .dataframe tbody tr th {\n",
       "        vertical-align: top;\n",
       "    }\n",
       "\n",
       "    .dataframe thead th {\n",
       "        text-align: right;\n",
       "    }\n",
       "</style>\n",
       "<table border=\"1\" class=\"dataframe\">\n",
       "  <thead>\n",
       "    <tr style=\"text-align: right;\">\n",
       "      <th></th>\n",
       "      <th>name</th>\n",
       "      <th>price</th>\n",
       "      <th>image</th>\n",
       "      <th>availability</th>\n",
       "      <th>description</th>\n",
       "      <th>url</th>\n",
       "      <th>category</th>\n",
       "    </tr>\n",
       "  </thead>\n",
       "  <tbody>\n",
       "    <tr>\n",
       "      <th>869</th>\n",
       "      <td>Écouteurs Sans Fil Sony WF-C510 - Black</td>\n",
       "      <td>NaN</td>\n",
       "      <td>https://www.tunisianet.com.tn/424093-home/ecou...</td>\n",
       "      <td>En arrivage</td>\n",
       "      <td>Écouteurs Sans Fil Sony WF-C510 - Transducteur...</td>\n",
       "      <td>https://www.tunisianet.com.tn/casque-ecouteurs...</td>\n",
       "      <td>Casque &amp; Écouteurs</td>\n",
       "    </tr>\n",
       "    <tr>\n",
       "      <th>870</th>\n",
       "      <td>Écouteurs Sans Fil Sony WF-C510 - White</td>\n",
       "      <td>NaN</td>\n",
       "      <td>https://www.tunisianet.com.tn/424084-home/ecou...</td>\n",
       "      <td>En arrivage</td>\n",
       "      <td>Écouteurs Sans Fil Sony WF-C510 - Transducteur...</td>\n",
       "      <td>https://www.tunisianet.com.tn/casque-ecouteurs...</td>\n",
       "      <td>Casque &amp; Écouteurs</td>\n",
       "    </tr>\n",
       "    <tr>\n",
       "      <th>878</th>\n",
       "      <td>Casque Gaming Sony INZONE MDR-G300/WZ - White</td>\n",
       "      <td>NaN</td>\n",
       "      <td>https://www.tunisianet.com.tn/424169-home/casq...</td>\n",
       "      <td>En arrivage</td>\n",
       "      <td>Transducteur : 40 mm - Réponse en fréquence : ...</td>\n",
       "      <td>https://www.tunisianet.com.tn/casque-ecouteurs...</td>\n",
       "      <td>Casque &amp; Écouteurs</td>\n",
       "    </tr>\n",
       "    <tr>\n",
       "      <th>929</th>\n",
       "      <td>Écouteurs Sans Fil Sony WF-C700N - Black</td>\n",
       "      <td>NaN</td>\n",
       "      <td>https://www.tunisianet.com.tn/424101-home/ecou...</td>\n",
       "      <td>En arrivage</td>\n",
       "      <td>Écouteurs Sans Fil Sony WF-C700N - Transducteu...</td>\n",
       "      <td>https://www.tunisianet.com.tn/casque-ecouteurs...</td>\n",
       "      <td>Casque &amp; Écouteurs</td>\n",
       "    </tr>\n",
       "    <tr>\n",
       "      <th>955</th>\n",
       "      <td>Casque sans fil Sony WH-CH720N - Noir</td>\n",
       "      <td>NaN</td>\n",
       "      <td>https://www.tunisianet.com.tn/444970-home/casq...</td>\n",
       "      <td>En arrivage</td>\n",
       "      <td>Casque sans fil WH-CH720N - Transducteur : 30 ...</td>\n",
       "      <td>https://www.tunisianet.com.tn/casque-ecouteurs...</td>\n",
       "      <td>Casque &amp; Écouteurs</td>\n",
       "    </tr>\n",
       "  </tbody>\n",
       "</table>\n",
       "</div>"
      ],
      "text/plain": [
       "                                              name price  \\\n",
       "869        Écouteurs Sans Fil Sony WF-C510 - Black   NaN   \n",
       "870        Écouteurs Sans Fil Sony WF-C510 - White   NaN   \n",
       "878  Casque Gaming Sony INZONE MDR-G300/WZ - White   NaN   \n",
       "929       Écouteurs Sans Fil Sony WF-C700N - Black   NaN   \n",
       "955          Casque sans fil Sony WH-CH720N - Noir   NaN   \n",
       "\n",
       "                                                 image availability  \\\n",
       "869  https://www.tunisianet.com.tn/424093-home/ecou...  En arrivage   \n",
       "870  https://www.tunisianet.com.tn/424084-home/ecou...  En arrivage   \n",
       "878  https://www.tunisianet.com.tn/424169-home/casq...  En arrivage   \n",
       "929  https://www.tunisianet.com.tn/424101-home/ecou...  En arrivage   \n",
       "955  https://www.tunisianet.com.tn/444970-home/casq...  En arrivage   \n",
       "\n",
       "                                           description  \\\n",
       "869  Écouteurs Sans Fil Sony WF-C510 - Transducteur...   \n",
       "870  Écouteurs Sans Fil Sony WF-C510 - Transducteur...   \n",
       "878  Transducteur : 40 mm - Réponse en fréquence : ...   \n",
       "929  Écouteurs Sans Fil Sony WF-C700N - Transducteu...   \n",
       "955  Casque sans fil WH-CH720N - Transducteur : 30 ...   \n",
       "\n",
       "                                                   url            category  \n",
       "869  https://www.tunisianet.com.tn/casque-ecouteurs...  Casque & Écouteurs  \n",
       "870  https://www.tunisianet.com.tn/casque-ecouteurs...  Casque & Écouteurs  \n",
       "878  https://www.tunisianet.com.tn/casque-ecouteurs...  Casque & Écouteurs  \n",
       "929  https://www.tunisianet.com.tn/casque-ecouteurs...  Casque & Écouteurs  \n",
       "955  https://www.tunisianet.com.tn/casque-ecouteurs...  Casque & Écouteurs  "
      ]
     },
     "execution_count": 261,
     "metadata": {},
     "output_type": "execute_result"
    }
   ],
   "source": [
    "df[df['price'].isnull()].head()"
   ]
  },
  {
   "cell_type": "code",
   "execution_count": 262,
   "id": "ef9dce26",
   "metadata": {},
   "outputs": [],
   "source": [
    "df['price'] = (\n",
    "    df['price']\n",
    "    .str.replace(\"DT\", \"\", regex=False)\n",
    "    .str.replace(\",\", \"\", regex=False)\n",
    "    .str.replace(\"\\xa0\", \"\", regex=False)\n",
    "    .str.replace(\" \", \"\", regex=False)   \n",
    "    .astype(float)\n",
    ")\n"
   ]
  },
  {
   "cell_type": "code",
   "execution_count": 263,
   "id": "5c2a3e58",
   "metadata": {},
   "outputs": [],
   "source": [
    "df[\"price\"] = df[\"price\"] / 1000\n",
    "df['price'] = df.groupby('category')['price'].transform(\n",
    "    lambda x: x.fillna(x.mean())\n",
    ")\n"
   ]
  },
  {
   "cell_type": "code",
   "execution_count": 264,
   "id": "bf503fa7",
   "metadata": {},
   "outputs": [
    {
     "data": {
      "text/plain": [
       "0     739.0\n",
       "1    1189.0\n",
       "2    1249.0\n",
       "3    1249.0\n",
       "4    1249.0\n",
       "Name: price, dtype: float64"
      ]
     },
     "execution_count": 264,
     "metadata": {},
     "output_type": "execute_result"
    }
   ],
   "source": [
    "df[\"price\"].head()"
   ]
  },
  {
   "cell_type": "code",
   "execution_count": 265,
   "id": "e5aa2b9b",
   "metadata": {},
   "outputs": [
    {
     "data": {
      "text/html": [
       "<div>\n",
       "<style scoped>\n",
       "    .dataframe tbody tr th:only-of-type {\n",
       "        vertical-align: middle;\n",
       "    }\n",
       "\n",
       "    .dataframe tbody tr th {\n",
       "        vertical-align: top;\n",
       "    }\n",
       "\n",
       "    .dataframe thead th {\n",
       "        text-align: right;\n",
       "    }\n",
       "</style>\n",
       "<table border=\"1\" class=\"dataframe\">\n",
       "  <thead>\n",
       "    <tr style=\"text-align: right;\">\n",
       "      <th></th>\n",
       "      <th>price</th>\n",
       "    </tr>\n",
       "  </thead>\n",
       "  <tbody>\n",
       "    <tr>\n",
       "      <th>count</th>\n",
       "      <td>11308.000000</td>\n",
       "    </tr>\n",
       "    <tr>\n",
       "      <th>mean</th>\n",
       "      <td>946.083769</td>\n",
       "    </tr>\n",
       "    <tr>\n",
       "      <th>std</th>\n",
       "      <td>1690.724843</td>\n",
       "    </tr>\n",
       "    <tr>\n",
       "      <th>min</th>\n",
       "      <td>0.300000</td>\n",
       "    </tr>\n",
       "    <tr>\n",
       "      <th>25%</th>\n",
       "      <td>45.000000</td>\n",
       "    </tr>\n",
       "    <tr>\n",
       "      <th>50%</th>\n",
       "      <td>229.000000</td>\n",
       "    </tr>\n",
       "    <tr>\n",
       "      <th>75%</th>\n",
       "      <td>1259.000000</td>\n",
       "    </tr>\n",
       "    <tr>\n",
       "      <th>max</th>\n",
       "      <td>39990.000000</td>\n",
       "    </tr>\n",
       "  </tbody>\n",
       "</table>\n",
       "</div>"
      ],
      "text/plain": [
       "              price\n",
       "count  11308.000000\n",
       "mean     946.083769\n",
       "std     1690.724843\n",
       "min        0.300000\n",
       "25%       45.000000\n",
       "50%      229.000000\n",
       "75%     1259.000000\n",
       "max    39990.000000"
      ]
     },
     "execution_count": 265,
     "metadata": {},
     "output_type": "execute_result"
    }
   ],
   "source": [
    "df.describe()"
   ]
  },
  {
   "cell_type": "code",
   "execution_count": 266,
   "id": "2d697e26",
   "metadata": {},
   "outputs": [
    {
     "data": {
      "text/html": [
       "<div>\n",
       "<style scoped>\n",
       "    .dataframe tbody tr th:only-of-type {\n",
       "        vertical-align: middle;\n",
       "    }\n",
       "\n",
       "    .dataframe tbody tr th {\n",
       "        vertical-align: top;\n",
       "    }\n",
       "\n",
       "    .dataframe thead th {\n",
       "        text-align: right;\n",
       "    }\n",
       "</style>\n",
       "<table border=\"1\" class=\"dataframe\">\n",
       "  <thead>\n",
       "    <tr style=\"text-align: right;\">\n",
       "      <th></th>\n",
       "      <th>name</th>\n",
       "      <th>price</th>\n",
       "      <th>image</th>\n",
       "      <th>availability</th>\n",
       "      <th>description</th>\n",
       "      <th>url</th>\n",
       "      <th>category</th>\n",
       "    </tr>\n",
       "  </thead>\n",
       "  <tbody>\n",
       "    <tr>\n",
       "      <th>11586</th>\n",
       "      <td>FICHE D'ALIMENTATION POUR CAMÉRA - Male</td>\n",
       "      <td>0.6</td>\n",
       "      <td>https://www.tunisianet.com.tn/398508-home/fich...</td>\n",
       "      <td>En stock</td>\n",
       "      <td>NaN</td>\n",
       "      <td>https://www.tunisianet.com.tn/cables-alimentat...</td>\n",
       "      <td>Câbles Alimentation</td>\n",
       "    </tr>\n",
       "  </tbody>\n",
       "</table>\n",
       "</div>"
      ],
      "text/plain": [
       "                                          name  price  \\\n",
       "11586  FICHE D'ALIMENTATION POUR CAMÉRA - Male    0.6   \n",
       "\n",
       "                                                   image availability  \\\n",
       "11586  https://www.tunisianet.com.tn/398508-home/fich...     En stock   \n",
       "\n",
       "      description                                                url  \\\n",
       "11586         NaN  https://www.tunisianet.com.tn/cables-alimentat...   \n",
       "\n",
       "                  category  \n",
       "11586  Câbles Alimentation  "
      ]
     },
     "execution_count": 266,
     "metadata": {},
     "output_type": "execute_result"
    }
   ],
   "source": [
    "df[df['description'].isnull()].head()"
   ]
  },
  {
   "cell_type": "code",
   "execution_count": 267,
   "id": "192f844f",
   "metadata": {},
   "outputs": [],
   "source": [
    "df['description'] = df['description'].fillna(\"\")"
   ]
  },
  {
   "cell_type": "markdown",
   "id": "1db0f4f9",
   "metadata": {},
   "source": [
    "### 3. Standardize Key Fields"
   ]
  },
  {
   "cell_type": "code",
   "execution_count": 268,
   "id": "191574b6",
   "metadata": {},
   "outputs": [
    {
     "data": {
      "text/plain": [
       "0    Écran 15.6\" Full HD, IPS- ProcesseurIntel N95 ...\n",
       "1    Écran 15.6\" Full HD (1920x1080), Antireflet- P...\n",
       "2    Écran 15.6\" Full HD (1920x1080), Antireflet- P...\n",
       "3    Écran 15.6\" Full HD (1920x1080), Antireflet- P...\n",
       "4    Écran 15.6\" Full HD (1920x1080), Antireflet- P...\n",
       "Name: description, dtype: object"
      ]
     },
     "execution_count": 268,
     "metadata": {},
     "output_type": "execute_result"
    }
   ],
   "source": [
    "df[df[\"category\"]==\"Pc Portable Pro\"][\"description\"].head()"
   ]
  },
  {
   "cell_type": "code",
   "execution_count": 269,
   "id": "c1f200ec",
   "metadata": {},
   "outputs": [],
   "source": [
    "df[\"description_list\"] =df[\"description\"] .apply(\n",
    "    lambda x: [p.strip() for p in re.split(r\"-\\s\\s*|\\s*\\s-\", str(x)) if p.strip()]\n",
    ")\n"
   ]
  },
  {
   "cell_type": "code",
   "execution_count": 270,
   "id": "a854aad5",
   "metadata": {},
   "outputs": [
    {
     "name": "stdout",
     "output_type": "stream",
     "text": [
      "- PORTE DOCUMENTS 100 Vues Transparentes\n",
      "- Format A4\n",
      "- Couverture: Polypropylène Opaque\n",
      "- Nombre de vues: 100\n",
      "- Nombre de pochettes: 50\n",
      "- Capacité: 100 feuilles\n",
      "- Épaisseur pochettes: 35µm\n",
      "- Dimensions: 247.5 × 312 mm\n"
     ]
    }
   ],
   "source": [
    "for item in df[\"description_list\"].iloc[10000]:\n",
    "    print(\"-\", item)\n"
   ]
  },
  {
   "cell_type": "code",
   "execution_count": null,
   "id": "4d769737",
   "metadata": {},
   "outputs": [],
   "source": [
    "df.to_csv(\"data/cleaned/preprocessed_data.csv\", index=False)\n"
   ]
  }
 ],
 "metadata": {
  "kernelspec": {
   "display_name": "Python 3",
   "language": "python",
   "name": "python3"
  },
  "language_info": {
   "codemirror_mode": {
    "name": "ipython",
    "version": 3
   },
   "file_extension": ".py",
   "mimetype": "text/x-python",
   "name": "python",
   "nbconvert_exporter": "python",
   "pygments_lexer": "ipython3",
   "version": "3.13.2"
  }
 },
 "nbformat": 4,
 "nbformat_minor": 5
}
